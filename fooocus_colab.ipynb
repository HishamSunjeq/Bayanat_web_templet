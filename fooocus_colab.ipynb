{
  "cells": [
    {
      "cell_type": "code",
      "execution_count": null,
      "metadata": {
        "id": "VjYy0F2gZIPR"
      },
      "outputs": [],
      "source": [
        "# Install pygit2\n",
        "!pip install pygit2==1.15.1\n",
        "\n",
        "# Clone Fooocus\n",
        "%cd /content\n",
        "!git clone https://github.com/lllyasviel/Fooocus.git\n",
        "%cd /content/Fooocus\n",
        "\n",
        "# Download SDXL 3.5 Large model (example link below — replace if needed)\n",
        "%cd /content/Fooocus/models/checkpoints\n",
        "!wget -O sdxl_3.5_large.safetensors https://huggingface.co/segmind/SSD-1B/resolve/main/ssd-1b.safetensors\n",
        "\n",
        "# Go back to Fooocus directory\n",
        "%cd /content/Fooocus\n",
        "\n",
        "# Run Fooocus with web UI shared\n",
        "!python entry_with_update.py --share --always-high-vram\n"
      ]
    }
  ],
  "metadata": {
    "accelerator": "GPU",
    "colab": {
      "gpuType": "T4",
      "provenance": []
    },
    "kernelspec": {
      "display_name": "Python 3",
      "name": "python3"
    },
    "language_info": {
      "name": "python"
    }
  },
  "nbformat": 4,
  "nbformat_minor": 0
}